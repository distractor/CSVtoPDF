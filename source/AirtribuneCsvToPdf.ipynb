{
 "cells": [
  {
   "cell_type": "markdown",
   "metadata": {},
   "source": [
    "# Import CSV"
   ]
  },
  {
   "cell_type": "code",
   "execution_count": 2,
   "metadata": {},
   "outputs": [],
   "source": [
    "import pandas as pd"
   ]
  },
  {
   "cell_type": "code",
   "execution_count": 3,
   "metadata": {
    "scrolled": true
   },
   "outputs": [],
   "source": [
    "fileName = 'open-slovenian-championship_full_list_01072021.xlsx'\n",
    "filePath = '../input/'\n",
    "\n",
    "data = pd.read_excel(filePath + fileName, sheet_name='Sheet1', engine='openpyxl')\n"
   ]
  },
  {
   "cell_type": "markdown",
   "metadata": {},
   "source": [
    "# Create PDFs"
   ]
  },
  {
   "cell_type": "code",
   "execution_count": 4,
   "metadata": {},
   "outputs": [],
   "source": [
    "from fpdf import FPDF\n",
    "import datetime"
   ]
  },
  {
   "cell_type": "code",
   "execution_count": 5,
   "metadata": {},
   "outputs": [],
   "source": [
    "fontSize = 14\n",
    "fontHeight = 7\n",
    "titleSize = 20\n",
    "footerSize = 8\n",
    "bigSpace = 15\n",
    "midSpace = 7\n",
    "smallSpace = 5\n",
    "emptyPages = 0"
   ]
  },
  {
   "cell_type": "code",
   "execution_count": 6,
   "metadata": {},
   "outputs": [],
   "source": [
    "title = 'Krvavec Open 2021'\n",
    "subtitle = 'Application form'\n",
    "emptyLine = '____________'\n",
    "meetDirector = 'Klub Letalcev Vrhnika, Jurij Vidic'\n",
    "responsibility = 'Participation in this competition is at the sole responsibility of each individual pilot. The event organizer does not claim any responsibility for the pilots or other third parties.'"
   ]
  },
  {
   "cell_type": "code",
   "execution_count": 7,
   "metadata": {},
   "outputs": [],
   "source": [
    "class PDF(FPDF):\n",
    "    def header(self):\n",
    "        # Logo\n",
    "        self.image(filePath + 'logo.png', 10, 8, 33)\n",
    "        \n",
    "        # TITLE\n",
    "        pdf.add_font('Bold', '', '../input/fonts/font_bold.ttf', uni=True)\n",
    "        pdf.set_font('Bold', '', 8)\n",
    "        self.set_font('Bold', '', titleSize)\n",
    "        # Calculate width of title and position\n",
    "        w = self.get_string_width(title) + 6\n",
    "        w *= 0.8\n",
    "        self.set_x((210 - w) / 2)\n",
    "        self.cell(w, 9, title,'C')\n",
    "        \n",
    "        # Line break\n",
    "        self.ln(10)\n",
    "        \n",
    "        # SUBTITLE\n",
    "        self.set_font('Reg', '', titleSize)\n",
    "        w = self.get_string_width(subtitle) + 6\n",
    "        w *= 0.8\n",
    "        self.set_x((210 - w) / 2)\n",
    "        self.cell(0, 9,subtitle,'C')\n",
    "        \n",
    "        # Line break\n",
    "        self.ln(30)\n",
    "\n",
    "    def footer(self):\n",
    "        # Position at 1.5 cm from bottom\n",
    "        self.set_y(-15)\n",
    "        pdf.add_font('Reg', '', '../input/fonts/font_reg.ttf', uni=True)\n",
    "        pdf.set_font('Reg', '', 8)\n",
    "        self.set_font('Reg', '', footerSize)\n",
    "        # Text color in gray\n",
    "        self.set_text_color(128)\n",
    "        # Page number\n",
    "        \n",
    "        self.cell(0, 10, 'Document is automatically generated with FPDF. Author: Mitja Jančič', 0, 0, 'C')"
   ]
  },
  {
   "cell_type": "code",
   "execution_count": 8,
   "metadata": {},
   "outputs": [],
   "source": [
    "import re\n",
    "\n",
    "def deEmojify(text):\n",
    "    regrex_pattern = re.compile(pattern=\"[\"\n",
    "                                u\"\\U0001F600-\\U0001F64F\"  # emoticons\n",
    "                                u\"\\U0001F300-\\U0001F5FF\"  # symbols & pictographs\n",
    "                                u\"\\U0001F680-\\U0001F6FF\"  # transport & map symbols\n",
    "                                u\"\\U0001F1E0-\\U0001F1FF\"  # flags (iOS)\n",
    "                                \"]+\", flags=re.UNICODE)\n",
    "    return regrex_pattern.sub(r'', text)\n"
   ]
  },
  {
   "cell_type": "code",
   "execution_count": 9,
   "metadata": {},
   "outputs": [],
   "source": [
    "def getValueFromData(PDF, Pilot, Property, FriendlyName, FontSize, LineBreak, EmptyLine = '', FontHeight = 7):\n",
    "    PDF.set_font('Reg', '', FontSize)\n",
    "    PDF.write(FontHeight, FriendlyName)\n",
    "    PDF.set_font('Bold', '', FontSize)\n",
    "    \n",
    "    if Property == 'NULL':\n",
    "        entry = EmptyLine\n",
    "    else:\n",
    "        entry = deEmojify(str(Pilot[Property]))\n",
    "        \n",
    "    if (entry == 'nan'):\n",
    "        entry = EmptyLine\n",
    "        \n",
    "    PDF.write(FontHeight, entry)\n",
    "    PDF.ln(LineBreak)\n"
   ]
  },
  {
   "cell_type": "code",
   "execution_count": 10,
   "metadata": {},
   "outputs": [],
   "source": [
    "pdf = PDF()\n",
    "pdf.set_left_margin(20)\n",
    "pdf.set_right_margin(20)\n",
    "pdf.add_font('Reg', '', '../input/fonts/font_reg.ttf', uni=True)\n",
    "pdf.add_font('Bold', '', '../input/fonts/font_bold.ttf', uni=True)\n",
    "\n",
    "for index, pilot in data.iterrows():\n",
    "    pdf.add_page()\n",
    "    \n",
    "    # Pilot name\n",
    "    getValueFromData(pdf, pilot, 'Name', 'Pilot name: ', fontSize, midSpace)\n",
    "    getValueFromData(pdf, pilot, 'Surname', 'Pilot surname: ', fontSize, midSpace)\n",
    "    # Gender\n",
    "    getValueFromData(pdf, pilot, 'Gender', 'Gender: ', fontSize, midSpace)\n",
    "    # Licence no.\n",
    "    getValueFromData(pdf, pilot, 'National federation license id',\n",
    "                     'Licence no.: ', fontSize, midSpace)\n",
    "    # FAI Sporting license\n",
    "    getValueFromData(pdf, pilot, 'Fai license number',\n",
    "                     'FAI number: ', fontSize, midSpace)\n",
    "    # CIVL ID\n",
    "    getValueFromData(pdf, pilot, 'Civl id', 'CIVL ID: ', fontSize, midSpace)\n",
    "\n",
    "    # Date of birth\n",
    "    # getValueFromData(pdf, pilot, 'Date of birth',\n",
    "    #                  'Date of birth: ', fontSize, midSpace)\n",
    "\n",
    "    # Mobile phone\n",
    "    getValueFromData(pdf, pilot, 'Mobile tel number',\n",
    "                     'Mobile phone: ', fontSize, midSpace)\n",
    "    # team\n",
    "    getValueFromData(pdf, pilot, 'Club', 'Club: ', fontSize, midSpace, EmptyLine = 2 * emptyLine)\n",
    "    # sponsor\n",
    "    getValueFromData(pdf, pilot, 'NULL', 'Sponsors: ', fontSize, midSpace)\n",
    "    # nationality\n",
    "    getValueFromData(pdf, pilot, 'Country of residence', 'Nation: ', fontSize, midSpace)\n",
    "    \n",
    "    # glider\n",
    "    pdf.set_font('Reg', '', fontSize)\n",
    "    pdf.write(fontHeight, 'Paraglider (EN 926/2): ')\n",
    "    pdf.set_font('Bold', '', fontSize)\n",
    "    pdf.write(fontHeight, str(\n",
    "        pilot['Paraglider manufacturer']) + ' ' + str(pilot['Paraglider model']))\n",
    "    pdf.ln(midSpace)\n",
    "    \n",
    "    # glider class\n",
    "    getValueFromData(pdf, pilot, 'Paraglider certification',\n",
    "                     'Safety class: ', fontSize, midSpace)\n",
    "    # glider color\n",
    "    getValueFromData(pdf, pilot, 'Paraglider color',\n",
    "                     'Paraglider color: ', fontSize, bigSpace, EmptyLine=emptyLine)\n",
    "    \n",
    "    # health insurance\n",
    "    pdf.set_font('Bold', '', fontSize)\n",
    "    pdf.write(fontSize, 'Medical insurance, which includes paragliding competitions:')\n",
    "    pdf.ln(10)\n",
    "    getValueFromData(pdf, pilot, 'NULL', 'Company: ', fontSize, midSpace, EmptyLine=2*emptyLine)\n",
    "    getValueFromData(pdf, pilot, 'NULL', 'Insurance card/policy number: ', fontSize, midSpace)\n",
    "    \n",
    "    # Responsibility\n",
    "    pdf.set_font('Bold', '', fontSize)\n",
    "    pdf.write(fontSize, 'Responsibility:')\n",
    "    pdf.ln(10)\n",
    "    pdf.set_font('Reg', '', fontSize)\n",
    "    pdf.write(7, responsibility)\n",
    "    pdf.ln(bigSpace)\n",
    "    \n",
    "    # Organisor\n",
    "    pdf.set_font('Bold', '', fontSize)\n",
    "    pdf.write(fontSize, 'Meet director: ')\n",
    "    pdf.set_font('Reg', '', fontSize)\n",
    "    pdf.write(fontSize, meetDirector)\n",
    "    pdf.ln(midSpace)\n",
    "    \n",
    "    # Signature\n",
    "    pdf.set_font('Bold', '', fontSize)\n",
    "    pdf.write(fontSize, 'Signature by organizer: ')\n",
    "    pdf.ln(bigSpace)\n",
    "    \n",
    "    # Date created\n",
    "    pdf.ln(smallSpace)\n",
    "    pdf.set_font('Reg', '', 10)\n",
    "    date = datetime.datetime.now().strftime(\"%I:%M:%S %p on %B %d, %Y.\")\n",
    "    pdf.write(fontSize, 'Application form auto-generated at ' + date)\n"
   ]
  },
  {
   "cell_type": "code",
   "execution_count": 11,
   "metadata": {},
   "outputs": [],
   "source": [
    "for i in range(emptyPages):\n",
    "    pdf.add_page()\n",
    "    \n",
    "    # Pilot name\n",
    "    getValueFromData(pdf, pilot, 'NULL', 'Pilot name: ', fontSize, midSpace,)\n",
    "    # Gender\n",
    "    getValueFromData(pdf, pilot, 'NULL', 'Gender: ', fontSize, midSpace)\n",
    "    # Licence no.\n",
    "    getValueFromData(pdf, pilot, 'NULL', 'Licence no.: ', fontSize, midSpace)\n",
    "    # FAI Sporting license\n",
    "    getValueFromData(pdf, pilot, 'NULL', 'FAI number: ', fontSize, midSpace)\n",
    "    # CIVL ID\n",
    "    getValueFromData(pdf, pilot, 'NULL', 'CIVL ID: ', fontSize, midSpace)\n",
    "    # Date of birth\n",
    "    getValueFromData(pdf, pilot, 'NULL', 'Date of birth: ', fontSize, midSpace)\n",
    "    # Mobile phone\n",
    "    getValueFromData(pdf, pilot, 'NULL', 'Mobile phone: ', fontSize, midSpace)    \n",
    "    # flying since\n",
    "    getValueFromData(pdf, pilot, 'NULL', 'Flying since: ', fontSize, midSpace)\n",
    "    # team\n",
    "    getValueFromData(pdf, pilot, 'NULL', 'Team: ', fontSize, midSpace)\n",
    "    # team\n",
    "    getValueFromData(pdf, pilot, 'NULL', 'Sponsors: ', fontSize, midSpace)\n",
    "    # nationality\n",
    "    getValueFromData(pdf, pilot, 'NULL', 'Nation: ', fontSize, midSpace)\n",
    "    \n",
    "    # glider\n",
    "    pdf.set_font('Reg', '', fontSize)\n",
    "    pdf.write(fontHeight, 'Paraglider (EN 926/2): ')\n",
    "    pdf.set_font('Bold', '', fontSize)\n",
    "    pdf.write(fontHeight, '')\n",
    "    pdf.ln(midSpace)\n",
    "    \n",
    "    # glider class\n",
    "    getValueFromData(pdf, pilot, 'NULL', 'Safety class: ', fontSize, midSpace)\n",
    "    # glider color\n",
    "    getValueFromData(pdf, pilot, 'NULL', 'Paraglider color: ', fontSize, bigSpace)\n",
    "    \n",
    "    # health insurance\n",
    "    pdf.set_font('Bold', '', fontSize)\n",
    "    pdf.write(fontSize, 'Medical insurance, which includes paragliding competitions:')\n",
    "    pdf.ln(10)\n",
    "    getValueFromData(pdf, pilot, 'NULL', 'Company: ', fontSize, midSpace)\n",
    "    getValueFromData(pdf, pilot, 'NULL', 'Card/policy number: ', fontSize, bigSpace)\n",
    "    \n",
    "    # Responsibility\n",
    "    pdf.set_font('Bold', '', fontSize)\n",
    "    pdf.write(fontSize, 'Responsibility:')\n",
    "    pdf.ln(10)\n",
    "    pdf.set_font('Reg', '', fontSize)\n",
    "    pdf.write(7, responsibility)\n",
    "    pdf.ln(bigSpace)\n",
    "    \n",
    "    # Organisor\n",
    "    pdf.set_font('Bold', '', fontSize)\n",
    "    pdf.write(fontSize, 'Meet director: ')\n",
    "    pdf.set_font('Reg', '', fontSize)\n",
    "    pdf.write(fontSize, meetDirector)\n",
    "    pdf.ln(midSpace)\n",
    "    \n",
    "    # Signature\n",
    "    pdf.set_font('Bold', '', fontSize)\n",
    "    pdf.write(fontSize, 'Signature by organizer: ')\n",
    "    pdf.ln(bigSpace)\n",
    "    \n",
    "    # Date created\n",
    "    pdf.ln(smallSpace)\n",
    "    pdf.set_font('Reg', '', 10)\n",
    "    date = datetime.datetime.now().strftime(\"%I:%M:%S %p on %B %d, %Y.\")\n",
    "    pdf.write(fontSize, 'Application form auto-generated at ' + date)"
   ]
  },
  {
   "cell_type": "code",
   "execution_count": 12,
   "metadata": {},
   "outputs": [
    {
     "data": {
      "text/plain": [
       "''"
      ]
     },
     "execution_count": 12,
     "metadata": {},
     "output_type": "execute_result"
    }
   ],
   "source": [
    "pdf.output('../output/ApplicationForms.pdf', 'F')"
   ]
  },
  {
   "cell_type": "code",
   "execution_count": null,
   "metadata": {},
   "outputs": [],
   "source": []
  }
 ],
 "metadata": {
  "interpreter": {
   "hash": "5d7a1f05756fa8e3349e9ec251627cea4d43cd3b748ba2a7bfc72a1b933d2043"
  },
  "kernelspec": {
   "display_name": "Python 3.8.2 32-bit",
   "name": "python3"
  },
  "language_info": {
   "codemirror_mode": {
    "name": "ipython",
    "version": 3
   },
   "file_extension": ".py",
   "mimetype": "text/x-python",
   "name": "python",
   "nbconvert_exporter": "python",
   "pygments_lexer": "ipython3",
   "version": "3.8.2"
  }
 },
 "nbformat": 4,
 "nbformat_minor": 2
}