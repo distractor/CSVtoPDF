{
 "cells": [
  {
   "cell_type": "markdown",
   "metadata": {},
   "source": [
    "# Import CSV"
   ]
  },
  {
   "cell_type": "code",
   "execution_count": 1,
   "metadata": {},
   "outputs": [],
   "source": [
    "import pandas as pd"
   ]
  },
  {
   "cell_type": "code",
   "execution_count": 2,
   "metadata": {
    "scrolled": true
   },
   "outputs": [],
   "source": [
    "fileName = 'pilots.csv'\n",
    "filePath = '../input/'\n",
    "\n",
    "data = pd.read_csv(filePath + fileName) \n",
    "\n",
    "# Remove entries without name\n",
    "data = data.dropna(subset = ['Full name'])\n",
    "data = data.reset_index(drop = True)"
   ]
  },
  {
   "cell_type": "markdown",
   "metadata": {},
   "source": [
    "# Import XML"
   ]
  },
  {
   "cell_type": "code",
   "execution_count": 3,
   "metadata": {},
   "outputs": [],
   "source": [
    "from xml.dom import minidom"
   ]
  },
  {
   "cell_type": "code",
   "execution_count": 4,
   "metadata": {},
   "outputs": [],
   "source": [
    "fileName = 'registrations.fsdb'\n",
    "filePath = '../input/'\n",
    "\n",
    "xmldata = minidom.parse(filePath + fileName)"
   ]
  },
  {
   "cell_type": "code",
   "execution_count": 5,
   "metadata": {},
   "outputs": [],
   "source": [
    "pilots = xmldata.getElementsByTagName('FsParticipant')\n",
    "names = []\n",
    "sponsors = []\n",
    "for elem in pilots:\n",
    "    names.append(elem.attributes['name'].value)\n",
    "    sponsors.append(elem.attributes['sponsor'].value)\n",
    "\n",
    "pilots = xmldata.getElementsByTagName('FsCustomAttribute')\n",
    "teams = []\n",
    "for elem in pilots:\n",
    "    if elem.attributes['name'].value == 'klub':\n",
    "        teams.append(elem.attributes['value'].value)\n",
    "    \n",
    "# remove missing names\n",
    "sponsors = [s for s, n in zip(sponsors, names) if n != '']\n",
    "teams = [t for t, n in zip(teams, names) if n != '']\n",
    "names = [n for n in names if n != '']"
   ]
  },
  {
   "cell_type": "markdown",
   "metadata": {},
   "source": [
    "# Merge XML to pandas dataframe with CSV"
   ]
  },
  {
   "cell_type": "code",
   "execution_count": 6,
   "metadata": {},
   "outputs": [],
   "source": [
    "# check order (could be that CSV and XML pilot ordering is different)\n",
    "cols = [[],[]]\n",
    "for index, pilot in data.iterrows():\n",
    "    pilotName = pilot['Full name']\n",
    "    for n, s, t in zip(names, sponsors, teams):\n",
    "        if pilotName == n :\n",
    "            cols[0].append(s)\n",
    "            cols[1].append(t)"
   ]
  },
  {
   "cell_type": "code",
   "execution_count": 7,
   "metadata": {},
   "outputs": [],
   "source": [
    "sponsors = pd.DataFrame({'Sponsor': cols[0]})\n",
    "teams = pd.DataFrame({'Teams': cols[1]})\n",
    "\n",
    "data = pd.concat([data, sponsors], axis = 1)\n",
    "data = pd.concat([data, teams], axis = 1)\n",
    "\n",
    "# NOT SURE WHY, but row 0 is added again\n",
    "# Remove entries without name\n",
    "data = data.dropna(subset = ['Full name'])"
   ]
  },
  {
   "cell_type": "markdown",
   "metadata": {},
   "source": [
    "# Create PDFs"
   ]
  },
  {
   "cell_type": "code",
   "execution_count": 8,
   "metadata": {},
   "outputs": [],
   "source": [
    "from fpdf import FPDF\n",
    "import datetime"
   ]
  },
  {
   "cell_type": "code",
   "execution_count": 9,
   "metadata": {},
   "outputs": [],
   "source": [
    "fontSize = 14\n",
    "fontHeight = 7\n",
    "titleSize = 20\n",
    "footerSize = 8\n",
    "bigSpace = 15\n",
    "midSpace = 7\n",
    "smallSpace = 5\n",
    "emptyPages = 20"
   ]
  },
  {
   "cell_type": "code",
   "execution_count": 10,
   "metadata": {},
   "outputs": [],
   "source": [
    "title = 'METULJMANIA OPEN 2019'\n",
    "subtitle = 'Application form'\n",
    "emptyLine = '____________'\n",
    "meetDirector = 'DJP Metulj Rimske Toplice, Dušan Durkovič'\n",
    "responsibility = 'Participation in this competition is at the sole responsibility of each individual pilot. The event organizer does not claim any responsibility for the pilots or other third parties.'"
   ]
  },
  {
   "cell_type": "code",
   "execution_count": 11,
   "metadata": {},
   "outputs": [],
   "source": [
    "class PDF(FPDF):\n",
    "    def header(self):\n",
    "        # Logo\n",
    "        self.image(filePath + 'logo.png', 10, 8, 33)\n",
    "        \n",
    "        # TITLE\n",
    "        pdf.add_font('Bold', '', '../input/fonts/font_bold.ttf', uni=True)\n",
    "        pdf.set_font('Bold', '', 8)\n",
    "        self.set_font('Bold', '', titleSize)\n",
    "        # Calculate width of title and position\n",
    "        w = self.get_string_width(title) + 6\n",
    "        w *= 0.8\n",
    "        self.set_x((210 - w) / 2)\n",
    "        self.cell(w, 9, title,'C')\n",
    "        \n",
    "        # Line break\n",
    "        self.ln(10)\n",
    "        \n",
    "        # SUBTITLE\n",
    "        self.set_font('Reg', '', titleSize)\n",
    "        w = self.get_string_width(subtitle) + 6\n",
    "        w *= 0.8\n",
    "        self.set_x((210 - w) / 2)\n",
    "        self.cell(0, 9,subtitle,'C')\n",
    "        \n",
    "        # Line break\n",
    "        self.ln(30)\n",
    "\n",
    "    def footer(self):\n",
    "        # Position at 1.5 cm from bottom\n",
    "        self.set_y(-15)\n",
    "        pdf.add_font('Reg', '', '../input/fonts/font_reg.ttf', uni=True)\n",
    "        pdf.set_font('Reg', '', 8)\n",
    "        self.set_font('Reg', '', footerSize)\n",
    "        # Text color in gray\n",
    "        self.set_text_color(128)\n",
    "        # Page number\n",
    "        \n",
    "        self.cell(0, 10, 'Document is automatically generated with FPDF. Author: Mitja Jančič', 0, 0, 'C')"
   ]
  },
  {
   "cell_type": "code",
   "execution_count": 12,
   "metadata": {},
   "outputs": [],
   "source": [
    "def getValueFromData(PDF, Pilot, Property, FriendlyName, FontSize, LineBreak, EmptyLine = '', FontHeight = 7):\n",
    "    PDF.set_font('Reg', '', FontSize)\n",
    "    PDF.write(FontHeight, FriendlyName)\n",
    "    PDF.set_font('Bold', '', FontSize)\n",
    "    \n",
    "    if Property == 'NULL':\n",
    "        entry = EmptyLine\n",
    "    else:\n",
    "        entry = str(Pilot[Property])\n",
    "        \n",
    "    if (entry == 'nan'):\n",
    "        entry = EmptyLine\n",
    "        \n",
    "    PDF.write(FontHeight, entry)\n",
    "    PDF.ln(LineBreak)"
   ]
  },
  {
   "cell_type": "code",
   "execution_count": 13,
   "metadata": {},
   "outputs": [],
   "source": [
    "pdf = PDF()\n",
    "pdf.set_left_margin(20)\n",
    "pdf.set_right_margin(20)\n",
    "pdf.add_font('Reg', '', '../input/fonts/font_reg.ttf', uni=True)\n",
    "pdf.add_font('Bold', '', '../input/fonts/font_bold.ttf', uni=True)\n",
    "\n",
    "for index, pilot in data.iterrows():\n",
    "    pdf.add_page()\n",
    "    \n",
    "    # Pilot name\n",
    "    getValueFromData(pdf, pilot, 'Full name', 'Pilot name: ', fontSize, midSpace)\n",
    "    # Gender\n",
    "    getValueFromData(pdf, pilot, 'Sex', 'Gender: ', fontSize, midSpace)\n",
    "    # Licence no.\n",
    "    getValueFromData(pdf, pilot, 'Licence no.', 'Licence no.: ', fontSize, midSpace)\n",
    "    # FAI Sporting license\n",
    "    getValueFromData(pdf, pilot, 'FAI number', 'FAI number: ', fontSize, midSpace)\n",
    "    # CIVL ID\n",
    "    getValueFromData(pdf, pilot, 'CIVL', 'CIVL ID: ', fontSize, midSpace)\n",
    "    # Date of birth\n",
    "    getValueFromData(pdf, pilot, 'Date of birth', 'Date of birth: ', fontSize, midSpace)\n",
    "    # Mobile phone\n",
    "    getValueFromData(pdf, pilot, 'Mobile phone', 'Mobile phone: ', fontSize, midSpace)    \n",
    "    # flying since\n",
    "    getValueFromData(pdf, pilot, 'NULL', 'Flying since: ', fontSize, midSpace, EmptyLine = emptyLine)\n",
    "    # team\n",
    "    getValueFromData(pdf, pilot, 'Teams', 'Team: ', fontSize, midSpace, EmptyLine = 2 * emptyLine)\n",
    "    # sponsor\n",
    "    getValueFromData(pdf, pilot, 'Sponsor', 'Sponsors: ', fontSize, midSpace)\n",
    "    # nationality\n",
    "    getValueFromData(pdf, pilot, 'Country', 'Nation: ', fontSize, midSpace)\n",
    "    \n",
    "    # glider\n",
    "    pdf.set_font('Reg', '', fontSize)\n",
    "    pdf.write(fontHeight, 'Paraglider (EN 926/2): ')\n",
    "    pdf.set_font('Bold', '', fontSize)\n",
    "    pdf.write(fontHeight, str(pilot['Manufacturer']) + ' ' + str(pilot['Glider']))\n",
    "    pdf.ln(midSpace)\n",
    "    \n",
    "    # glider class\n",
    "    getValueFromData(pdf, pilot, 'Class', 'Safety class: ', fontSize, midSpace)\n",
    "    # glider color\n",
    "    getValueFromData(pdf, pilot, 'NULL', 'Paraglider color: ', fontSize, bigSpace, EmptyLine = emptyLine)\n",
    "    \n",
    "    # health insurance\n",
    "    pdf.set_font('Bold', '', fontSize)\n",
    "    pdf.write(fontSize, 'Medical insurance, which includes paragliding competitions:')\n",
    "    pdf.ln(10)\n",
    "    getValueFromData(pdf, pilot, 'NULL', 'Company: ', fontSize, midSpace, EmptyLine = 2*emptyLine)\n",
    "    getValueFromData(pdf, pilot, 'NULL', 'Card/policy number: ', fontSize, bigSpace, EmptyLine = 2*emptyLine)\n",
    "    \n",
    "    # Responsibility\n",
    "    pdf.set_font('Bold', '', fontSize)\n",
    "    pdf.write(fontSize, 'Responsibility:')\n",
    "    pdf.ln(10)\n",
    "    pdf.set_font('Reg', '', fontSize)\n",
    "    pdf.write(7, responsibility)\n",
    "    pdf.ln(bigSpace)\n",
    "    \n",
    "    # Organisor\n",
    "    pdf.set_font('Bold', '', fontSize)\n",
    "    pdf.write(fontSize, 'Meet director: ')\n",
    "    pdf.set_font('Reg', '', fontSize)\n",
    "    pdf.write(fontSize, meetDirector)\n",
    "    pdf.ln(midSpace)\n",
    "    \n",
    "    # Signature\n",
    "    pdf.set_font('Bold', '', fontSize)\n",
    "    pdf.write(fontSize, 'Signature by organizer: ')\n",
    "    pdf.ln(bigSpace)\n",
    "    \n",
    "    # Date created\n",
    "    pdf.ln(smallSpace)\n",
    "    pdf.set_font('Reg', '', 10)\n",
    "    date = datetime.datetime.now().strftime(\"%I:%M:%S %p on %B %d, %Y.\")\n",
    "    pdf.write(fontSize, 'Application form auto-generated at ' + date)\n"
   ]
  },
  {
   "cell_type": "code",
   "execution_count": 14,
   "metadata": {},
   "outputs": [],
   "source": [
    "for i in range(emptyPages):\n",
    "    pdf.add_page()\n",
    "    \n",
    "    # Pilot name\n",
    "    getValueFromData(pdf, pilot, 'NULL', 'Pilot name: ', fontSize, midSpace,)\n",
    "    # Gender\n",
    "    getValueFromData(pdf, pilot, 'NULL', 'Gender: ', fontSize, midSpace)\n",
    "    # Licence no.\n",
    "    getValueFromData(pdf, pilot, 'NULL', 'Licence no.: ', fontSize, midSpace)\n",
    "    # FAI Sporting license\n",
    "    getValueFromData(pdf, pilot, 'NULL', 'FAI number: ', fontSize, midSpace)\n",
    "    # CIVL ID\n",
    "    getValueFromData(pdf, pilot, 'NULL', 'CIVL ID: ', fontSize, midSpace)\n",
    "    # Date of birth\n",
    "    getValueFromData(pdf, pilot, 'NULL', 'Date of birth: ', fontSize, midSpace)\n",
    "    # Mobile phone\n",
    "    getValueFromData(pdf, pilot, 'NULL', 'Mobile phone: ', fontSize, midSpace)    \n",
    "    # flying since\n",
    "    getValueFromData(pdf, pilot, 'NULL', 'Flying since: ', fontSize, midSpace)\n",
    "    # team\n",
    "    getValueFromData(pdf, pilot, 'NULL', 'Team: ', fontSize, midSpace)\n",
    "    # team\n",
    "    getValueFromData(pdf, pilot, 'NULL', 'Sponsors: ', fontSize, midSpace)\n",
    "    # nationality\n",
    "    getValueFromData(pdf, pilot, 'NULL', 'Nation: ', fontSize, midSpace)\n",
    "    \n",
    "    # glider\n",
    "    pdf.set_font('Reg', '', fontSize)\n",
    "    pdf.write(fontHeight, 'Paraglider (EN 926/2): ')\n",
    "    pdf.set_font('Bold', '', fontSize)\n",
    "    pdf.write(fontHeight, '')\n",
    "    pdf.ln(midSpace)\n",
    "    \n",
    "    # glider class\n",
    "    getValueFromData(pdf, pilot, 'NULL', 'Safety class: ', fontSize, midSpace)\n",
    "    # glider color\n",
    "    getValueFromData(pdf, pilot, 'NULL', 'Paraglider color: ', fontSize, bigSpace)\n",
    "    \n",
    "    # health insurance\n",
    "    pdf.set_font('Bold', '', fontSize)\n",
    "    pdf.write(fontSize, 'Medical insurance, which includes paragliding competitions:')\n",
    "    pdf.ln(10)\n",
    "    getValueFromData(pdf, pilot, 'NULL', 'Company: ', fontSize, midSpace)\n",
    "    getValueFromData(pdf, pilot, 'NULL', 'Card/policy number: ', fontSize, bigSpace)\n",
    "    \n",
    "    # Responsibility\n",
    "    pdf.set_font('Bold', '', fontSize)\n",
    "    pdf.write(fontSize, 'Responsibility:')\n",
    "    pdf.ln(10)\n",
    "    pdf.set_font('Reg', '', fontSize)\n",
    "    pdf.write(7, responsibility)\n",
    "    pdf.ln(bigSpace)\n",
    "    \n",
    "    # Organisor\n",
    "    pdf.set_font('Bold', '', fontSize)\n",
    "    pdf.write(fontSize, 'Meet director: ')\n",
    "    pdf.set_font('Reg', '', fontSize)\n",
    "    pdf.write(fontSize, meetDirector)\n",
    "    pdf.ln(midSpace)\n",
    "    \n",
    "    # Signature\n",
    "    pdf.set_font('Bold', '', fontSize)\n",
    "    pdf.write(fontSize, 'Signature by organizer: ')\n",
    "    pdf.ln(bigSpace)\n",
    "    \n",
    "    # Date created\n",
    "    pdf.ln(smallSpace)\n",
    "    pdf.set_font('Reg', '', 10)\n",
    "    date = datetime.datetime.now().strftime(\"%I:%M:%S %p on %B %d, %Y.\")\n",
    "    pdf.write(fontSize, 'Application form auto-generated at ' + date)"
   ]
  },
  {
   "cell_type": "code",
   "execution_count": 15,
   "metadata": {},
   "outputs": [
    {
     "data": {
      "text/plain": [
       "''"
      ]
     },
     "execution_count": 15,
     "metadata": {},
     "output_type": "execute_result"
    }
   ],
   "source": [
    "pdf.output('../output/ApplicationForms.pdf', 'F')"
   ]
  },
  {
   "cell_type": "code",
   "execution_count": null,
   "metadata": {},
   "outputs": [],
   "source": []
  }
 ],
 "metadata": {
  "kernelspec": {
   "display_name": "Python 3",
   "language": "python",
   "name": "python3"
  },
  "language_info": {
   "codemirror_mode": {
    "name": "ipython",
    "version": 3
   },
   "file_extension": ".py",
   "mimetype": "text/x-python",
   "name": "python",
   "nbconvert_exporter": "python",
   "pygments_lexer": "ipython3",
   "version": "3.7.3"
  }
 },
 "nbformat": 4,
 "nbformat_minor": 2
}
